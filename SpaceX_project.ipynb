{
  "cells": [
    {
      "cell_type": "markdown",
      "metadata": {
        "id": "view-in-github",
        "colab_type": "text"
      },
      "source": [
        "<a href=\"https://colab.research.google.com/github/evansnjagi/spacex_modeling/blob/main/SpaceX_project.ipynb\" target=\"_parent\"><img src=\"https://colab.research.google.com/assets/colab-badge.svg\" alt=\"Open In Colab\"/></a>"
      ]
    },
    {
      "cell_type": "markdown",
      "metadata": {
        "id": "s1bV8M8Q5zOB"
      },
      "source": [
        "# getting the data from the spaceX api\n",
        "# Objectives\n",
        "- Booster version  from the rocket database\n",
        "- Launch site and get, latitude, longitude, and the name\n",
        "- Payload getting the mass kilograms and the orbit\n",
        "- core(the outcome for landing). We will get the following data, type of landing, number of flights with the core, whether grids were used, whether the core we re-used, whether legs were used, landing pad used, block of the core( number used to separate version cores), number of times the specific core has been reused and finally serial of the core."
      ]
    },
    {
      "cell_type": "code",
      "execution_count": 3,
      "metadata": {
        "id": "8eGNNg_V47YY"
      },
      "outputs": [],
      "source": [
        "%%capture\n",
        "! pip install requests"
      ]
    },
    {
      "cell_type": "code",
      "execution_count": 4,
      "metadata": {
        "id": "vp5TyVCr7ziK"
      },
      "outputs": [],
      "source": [
        "# library codes\n",
        "\n",
        "import requests\n",
        "import pandas as pd\n",
        "import json\n"
      ]
    },
    {
      "cell_type": "code",
      "execution_count": 5,
      "metadata": {
        "id": "i932JMu979eI",
        "outputId": "c125ca54-8df5-4cc3-ae99-ec9056195484",
        "colab": {
          "base_uri": "https://localhost:8080/"
        }
      },
      "outputs": [
        {
          "output_type": "stream",
          "name": "stdout",
          "text": [
            "<class 'pandas.core.frame.DataFrame'>\n",
            "(187, 43)\n",
            "<class 'pandas.core.frame.DataFrame'>\n",
            "RangeIndex: 187 entries, 0 to 186\n",
            "Data columns (total 43 columns):\n",
            " #   Column                     Non-Null Count  Dtype  \n",
            "---  ------                     --------------  -----  \n",
            " 0   static_fire_date_utc       121 non-null    object \n",
            " 1   static_fire_date_unix      121 non-null    float64\n",
            " 2   net                        187 non-null    bool   \n",
            " 3   window                     117 non-null    float64\n",
            " 4   rocket                     187 non-null    object \n",
            " 5   success                    186 non-null    object \n",
            " 6   failures                   187 non-null    object \n",
            " 7   details                    134 non-null    object \n",
            " 8   crew                       187 non-null    object \n",
            " 9   ships                      187 non-null    object \n",
            " 10  capsules                   187 non-null    object \n",
            " 11  payloads                   187 non-null    object \n",
            " 12  launchpad                  187 non-null    object \n",
            " 13  flight_number              187 non-null    int64  \n",
            " 14  name                       187 non-null    object \n",
            " 15  date_utc                   187 non-null    object \n",
            " 16  date_unix                  187 non-null    int64  \n",
            " 17  date_local                 187 non-null    object \n",
            " 18  date_precision             187 non-null    object \n",
            " 19  upcoming                   187 non-null    bool   \n",
            " 20  cores                      187 non-null    object \n",
            " 21  auto_update                187 non-null    bool   \n",
            " 22  tbd                        187 non-null    bool   \n",
            " 23  launch_library_id          69 non-null     object \n",
            " 24  id                         187 non-null    object \n",
            " 25  fairings.reused            93 non-null     object \n",
            " 26  fairings.recovery_attempt  107 non-null    object \n",
            " 27  fairings.recovered         85 non-null     object \n",
            " 28  fairings.ships             152 non-null    object \n",
            " 29  links.patch.small          187 non-null    object \n",
            " 30  links.patch.large          187 non-null    object \n",
            " 31  links.reddit.campaign      148 non-null    object \n",
            " 32  links.reddit.launch        164 non-null    object \n",
            " 33  links.reddit.media         88 non-null     object \n",
            " 34  links.reddit.recovery      93 non-null     object \n",
            " 35  links.flickr.small         187 non-null    object \n",
            " 36  links.flickr.original      187 non-null    object \n",
            " 37  links.presskit             91 non-null     object \n",
            " 38  links.webcast              185 non-null    object \n",
            " 39  links.youtube_id           185 non-null    object \n",
            " 40  links.article              142 non-null    object \n",
            " 41  links.wikipedia            155 non-null    object \n",
            " 42  fairings                   0 non-null      float64\n",
            "dtypes: bool(4), float64(3), int64(2), object(34)\n",
            "memory usage: 57.8+ KB\n",
            "None\n"
          ]
        }
      ],
      "source": [
        "# getting the entire dataset\n",
        "response = requests.get(\"https://api.spacexdata.com/v4/launches/past\")\n",
        "data = pd.json_normalize(response.json())\n",
        "print(type(data))\n",
        "print(data.shape)\n",
        "print(data.info())"
      ]
    },
    {
      "cell_type": "code",
      "execution_count": 6,
      "metadata": {
        "id": "MTs1CHLM7IRh"
      },
      "outputs": [],
      "source": [
        "# booster version\n",
        "rocket = data[\"rocket\"]\n",
        "BoosterVersion = []\n",
        "\n",
        "for rocket in rocket:\n",
        "    if rocket:\n",
        "        response = requests.get(\"https://api.spacexdata.com/v4/rockets/\"+str(rocket)).json()\n",
        "        BoosterVersion.append(response[\"name\"])\n",
        "# boosterversion into a series\n",
        "\n",
        "BoosterVersion = pd.Series(BoosterVersion)"
      ]
    },
    {
      "cell_type": "code",
      "execution_count": 7,
      "metadata": {
        "id": "-6wKX2Fx7uhW",
        "outputId": "c1508422-9d17-438f-c95d-7456b28ec422",
        "colab": {
          "base_uri": "https://localhost:8080/"
        }
      },
      "outputs": [
        {
          "output_type": "stream",
          "name": "stdout",
          "text": [
            "<class 'pandas.core.series.Series'>\n",
            "The length of the booster version is: 187\n"
          ]
        }
      ],
      "source": [
        "print(type(BoosterVersion))\n",
        "print(f\"The length of the booster version is: {len(BoosterVersion)}\")"
      ]
    },
    {
      "cell_type": "code",
      "execution_count": 8,
      "metadata": {
        "id": "yUua5e7y9wRt"
      },
      "outputs": [],
      "source": [
        "from re import L\n",
        "# launchpad, latitude, longitude, and the name of the lauchpad\n",
        "launchpad = data[\"launchpad\"]\n",
        "LaunchSite = []\n",
        "Latitude = []\n",
        "Longitude = []\n",
        "\n",
        "for launchpad in launchpad:\n",
        "    if launchpad:\n",
        "        response = requests.get(\"https://api.spacexdata.com/v4/launchpads/\"+str(launchpad)).json()\n",
        "        latitude = response[\"latitude\"]\n",
        "        longitude = response[\"longitude\"]\n",
        "        name = response[\"name\"]\n",
        "        LaunchSite.append(name)\n",
        "        Latitude.append(latitude)\n",
        "        Longitude.append(Longitude)\n",
        "# into a series\n",
        "LaunchSite = pd.Series(LaunchSite)\n",
        "Latitude = pd.Series(Latitude)\n",
        "Longitude = pd.Series(Longitude)"
      ]
    },
    {
      "cell_type": "code",
      "source": [
        "print(type(LaunchSite))\n",
        "print(f\"The lenght of the launch site is: {len(LaunchSite)}\")\n",
        "print(type(Latitude))\n",
        "print(f\"The lenght of the Latitude is: {len(Latitude)}\")\n",
        "print(type(Longitude))\n",
        "print(f\"The length of the longitude is: {len(Longitude)}\")"
      ],
      "metadata": {
        "id": "shOynqNgd1Lh",
        "outputId": "6c402bff-16a9-43ba-9e2b-2a333603b0b0",
        "colab": {
          "base_uri": "https://localhost:8080/"
        }
      },
      "execution_count": 9,
      "outputs": [
        {
          "output_type": "stream",
          "name": "stdout",
          "text": [
            "<class 'pandas.core.series.Series'>\n",
            "The lenght of the launch site is: 187\n",
            "<class 'pandas.core.series.Series'>\n",
            "The lenght of the Latitude is: 187\n",
            "<class 'pandas.core.series.Series'>\n",
            "The length of the longitude is: 187\n"
          ]
        }
      ]
    },
    {
      "cell_type": "code",
      "execution_count": 10,
      "metadata": {
        "id": "MMKwT48PBW9i"
      },
      "outputs": [],
      "source": [
        "# getting payload data, mass and orbit\n",
        "Payloads = pd.Series(data[\"payloads\"])\n",
        "Payload = Payloads.apply(lambda x: x[0])\n",
        "\n",
        "Mass_kg = []\n",
        "Orbit = []\n",
        "\n",
        "for payload in Payload:\n",
        "    if payload:\n",
        "        response = requests.get(\"https://api.spacexdata.com/v4/payloads/\" + str(payload)).json()\n",
        "        Mass_kg.append(response[\"mass_kg\"])\n",
        "        Orbit.append(response[\"orbit\"])\n",
        "Mass_kg = pd.Series(Mass_kg)\n",
        "Orbit = pd.Series(Orbit)"
      ]
    },
    {
      "cell_type": "code",
      "source": [
        "print(f\"The length of the mass is: {len(Mass_kg)}\")\n",
        "print(type(Mass_kg))\n",
        "print(f\"The lenght of the orbit is: {len(Orbit)}\")\n",
        "print(type(Orbit))"
      ],
      "metadata": {
        "id": "FnYzT2krdLQm",
        "outputId": "cf57a4c0-dd38-406a-ff9c-d5adf9fd01db",
        "colab": {
          "base_uri": "https://localhost:8080/"
        }
      },
      "execution_count": 11,
      "outputs": [
        {
          "output_type": "stream",
          "name": "stdout",
          "text": [
            "The length of the mass is: 187\n",
            "<class 'pandas.core.series.Series'>\n",
            "The lenght of the orbit is: 187\n",
            "<class 'pandas.core.series.Series'>\n"
          ]
        }
      ]
    },
    {
      "cell_type": "code",
      "source": [
        "# Initialize lists\n",
        "Block = []\n",
        "ReusedCount = []\n",
        "Serial = []\n",
        "Outcome = []\n",
        "Flights = []\n",
        "GridFins = []\n",
        "Legs = []\n",
        "Reused = []\n",
        "LandingPad = []\n",
        "\n",
        "# Assuming 'data' is your DataFrame\n",
        "cores = data[\"cores\"]\n",
        "Cores = cores.apply(lambda x: x[0] if len(x) > 0 else None)  # Handling empty lists\n",
        "\n",
        "for core in Cores:\n",
        "    if core:\n",
        "        core_series = pd.Series(core)\n",
        "        Core = core_series[\"core\"]\n",
        "\n",
        "        # Requesting the outcome of landing data\n",
        "        response = requests.get(\"https://api.spacexdata.com/v4/cores/\" + str(Core)).json()\n",
        "\n",
        "        Block.append(response[\"block\"])\n",
        "        ReusedCount.append(response[\"reuse_count\"])\n",
        "        Serial.append(\"serial\")\n",
        "\n",
        "        Outcome.append(str(response.get('landing_success', 'None')) + ' ' + str(response.get('landing_type', 'None')))\n",
        "        Flights.append(core_series.get('flight', None))\n",
        "        GridFins.append(core_series.get('gridfins', None))\n",
        "        Reused.append(core_series.get('reused', None))\n",
        "        Legs.append(core_series.get('legs', None))\n",
        "        LandingPad.append(core_series.get('landpad', None))\n",
        "    else:\n",
        "        Block.append(None)\n",
        "        ReusedCount.append(None)\n",
        "        Serial.append(None)\n",
        "        Outcome.append(None)\n",
        "        Flights.append(None)\n",
        "        GridFins.append(None)\n",
        "        Legs.append(None)\n",
        "        Reused.append(None)\n",
        "        LandingPad.append(None)\n",
        "\n",
        "# Convert lists to series\n",
        "Block = pd.Series(Block)\n",
        "ReusedCount = pd.Series(ReusedCount)\n",
        "Serial = pd.Series(Serial)\n",
        "Outcome = pd.Series(Outcome)\n",
        "Flights = pd.Series(Flights)\n",
        "GridFins = pd.Series(GridFins)\n",
        "Legs = pd.Series(Legs)\n",
        "Reused = pd.Series(Reused)\n",
        "LandingPad = pd.Series(LandingPad)\n"
      ],
      "metadata": {
        "id": "lUGBkskVs7A4"
      },
      "execution_count": 12,
      "outputs": []
    },
    {
      "cell_type": "code",
      "source": [
        "print(f\"The length of block is {len(Block)}\")\n",
        "print(type(Block))\n",
        "print(f\"The length of reused count is {len(ReusedCount)}\")\n",
        "print(type(ReusedCount))\n",
        "print(f\"The length of serial is {len(Serial)}\")\n",
        "print(type(Serial))\n",
        "print(f\"The length of outcome is {len(Outcome)}\")\n",
        "print(type(Outcome))\n",
        "print(f\"The length of flights is {len(Flights)}\")\n",
        "print(type(Flights))\n",
        "print(f\"The length of grid fins is {len(GridFins)}\")\n",
        "print(type(GridFins))\n",
        "print(f\"The length of legs is {len(Legs)}\")\n",
        "print(type(Legs))\n",
        "print(f\"The length of reused is {len(Reused)}\")\n",
        "print(type(Reused))\n",
        "print(f\"The length of landing pads is {len(LandingPad)}\")\n",
        "print(type(LandingPad))"
      ],
      "metadata": {
        "id": "__OioWQDmcw7",
        "outputId": "dda12b73-449e-4881-db4d-ea2f6f7c0785",
        "colab": {
          "base_uri": "https://localhost:8080/"
        }
      },
      "execution_count": 13,
      "outputs": [
        {
          "output_type": "stream",
          "name": "stdout",
          "text": [
            "The length of block is 187\n",
            "<class 'pandas.core.series.Series'>\n",
            "The length of reused count is 187\n",
            "<class 'pandas.core.series.Series'>\n",
            "The length of serial is 187\n",
            "<class 'pandas.core.series.Series'>\n",
            "The length of outcome is 187\n",
            "<class 'pandas.core.series.Series'>\n",
            "The length of flights is 187\n",
            "<class 'pandas.core.series.Series'>\n",
            "The length of grid fins is 187\n",
            "<class 'pandas.core.series.Series'>\n",
            "The length of legs is 187\n",
            "<class 'pandas.core.series.Series'>\n",
            "The length of reused is 187\n",
            "<class 'pandas.core.series.Series'>\n",
            "The length of landing pads is 187\n",
            "<class 'pandas.core.series.Series'>\n"
          ]
        }
      ]
    },
    {
      "cell_type": "code",
      "source": [
        "# creating a dictionary\n",
        "\n",
        "launch_dict = {\n",
        "    'FlightNumber': list(data['flight_number']),\n",
        "    'Date': list(data['date_utc']),\n",
        "    'BoosterVersion': BoosterVersion,\n",
        "    'PayloadMass': Mass_kg,\n",
        "    'LaunchSite': LaunchSite,\n",
        "    'Orbit': Orbit,\n",
        "    'Outcome': Outcome,\n",
        "    'Flights': Flights,\n",
        "    'GridFins': GridFins,\n",
        "    \"Reused\": Reused,\n",
        "    'ReusedCount': ReusedCount,\n",
        "    'Block': Block,\n",
        "    'Serial': Serial,\n",
        "    'Legs': Legs,\n",
        "    'LandingPad': LandingPad,\n",
        "    'Latitude': Latitude,\n",
        "    'Longitude': Longitude,\n",
        "}"
      ],
      "metadata": {
        "id": "O9ZN-LzTjL8-"
      },
      "execution_count": 14,
      "outputs": []
    },
    {
      "cell_type": "code",
      "source": [
        "# creating a dataframe\n",
        "df = pd.DataFrame(launch_dict)\n",
        "df.info()"
      ],
      "metadata": {
        "id": "b2Crm9yamNtZ",
        "outputId": "c1189dba-0c2a-4884-8944-94eafd5bd1c4",
        "colab": {
          "base_uri": "https://localhost:8080/"
        }
      },
      "execution_count": 15,
      "outputs": [
        {
          "output_type": "stream",
          "name": "stdout",
          "text": [
            "<class 'pandas.core.frame.DataFrame'>\n",
            "RangeIndex: 187 entries, 0 to 186\n",
            "Data columns (total 17 columns):\n",
            " #   Column          Non-Null Count  Dtype  \n",
            "---  ------          --------------  -----  \n",
            " 0   FlightNumber    187 non-null    int64  \n",
            " 1   Date            187 non-null    object \n",
            " 2   BoosterVersion  187 non-null    object \n",
            " 3   PayloadMass     162 non-null    float64\n",
            " 4   LaunchSite      187 non-null    object \n",
            " 5   Orbit           186 non-null    object \n",
            " 6   Outcome         187 non-null    object \n",
            " 7   Flights         187 non-null    int64  \n",
            " 8   GridFins        187 non-null    bool   \n",
            " 9   Reused          187 non-null    bool   \n",
            " 10  ReusedCount     187 non-null    int64  \n",
            " 11  Block           182 non-null    float64\n",
            " 12  Serial          187 non-null    object \n",
            " 13  Legs            187 non-null    bool   \n",
            " 14  LandingPad      151 non-null    object \n",
            " 15  Latitude        187 non-null    float64\n",
            " 16  Longitude       187 non-null    object \n",
            "dtypes: bool(3), float64(3), int64(3), object(8)\n",
            "memory usage: 21.1+ KB\n"
          ]
        }
      ]
    },
    {
      "cell_type": "code",
      "source": [
        "# getting total number of null values\n",
        "df.isnull().sum()"
      ],
      "metadata": {
        "id": "iwY4DAlGuQl4",
        "outputId": "1e6fe0ff-fec0-4686-ff0f-49a15cbce6a1",
        "colab": {
          "base_uri": "https://localhost:8080/",
          "height": 617
        }
      },
      "execution_count": 16,
      "outputs": [
        {
          "output_type": "execute_result",
          "data": {
            "text/plain": [
              "FlightNumber       0\n",
              "Date               0\n",
              "BoosterVersion     0\n",
              "PayloadMass       25\n",
              "LaunchSite         0\n",
              "Orbit              1\n",
              "Outcome            0\n",
              "Flights            0\n",
              "GridFins           0\n",
              "Reused             0\n",
              "ReusedCount        0\n",
              "Block              5\n",
              "Serial             0\n",
              "Legs               0\n",
              "LandingPad        36\n",
              "Latitude           0\n",
              "Longitude          0\n",
              "dtype: int64"
            ],
            "text/html": [
              "<div>\n",
              "<style scoped>\n",
              "    .dataframe tbody tr th:only-of-type {\n",
              "        vertical-align: middle;\n",
              "    }\n",
              "\n",
              "    .dataframe tbody tr th {\n",
              "        vertical-align: top;\n",
              "    }\n",
              "\n",
              "    .dataframe thead th {\n",
              "        text-align: right;\n",
              "    }\n",
              "</style>\n",
              "<table border=\"1\" class=\"dataframe\">\n",
              "  <thead>\n",
              "    <tr style=\"text-align: right;\">\n",
              "      <th></th>\n",
              "      <th>0</th>\n",
              "    </tr>\n",
              "  </thead>\n",
              "  <tbody>\n",
              "    <tr>\n",
              "      <th>FlightNumber</th>\n",
              "      <td>0</td>\n",
              "    </tr>\n",
              "    <tr>\n",
              "      <th>Date</th>\n",
              "      <td>0</td>\n",
              "    </tr>\n",
              "    <tr>\n",
              "      <th>BoosterVersion</th>\n",
              "      <td>0</td>\n",
              "    </tr>\n",
              "    <tr>\n",
              "      <th>PayloadMass</th>\n",
              "      <td>25</td>\n",
              "    </tr>\n",
              "    <tr>\n",
              "      <th>LaunchSite</th>\n",
              "      <td>0</td>\n",
              "    </tr>\n",
              "    <tr>\n",
              "      <th>Orbit</th>\n",
              "      <td>1</td>\n",
              "    </tr>\n",
              "    <tr>\n",
              "      <th>Outcome</th>\n",
              "      <td>0</td>\n",
              "    </tr>\n",
              "    <tr>\n",
              "      <th>Flights</th>\n",
              "      <td>0</td>\n",
              "    </tr>\n",
              "    <tr>\n",
              "      <th>GridFins</th>\n",
              "      <td>0</td>\n",
              "    </tr>\n",
              "    <tr>\n",
              "      <th>Reused</th>\n",
              "      <td>0</td>\n",
              "    </tr>\n",
              "    <tr>\n",
              "      <th>ReusedCount</th>\n",
              "      <td>0</td>\n",
              "    </tr>\n",
              "    <tr>\n",
              "      <th>Block</th>\n",
              "      <td>5</td>\n",
              "    </tr>\n",
              "    <tr>\n",
              "      <th>Serial</th>\n",
              "      <td>0</td>\n",
              "    </tr>\n",
              "    <tr>\n",
              "      <th>Legs</th>\n",
              "      <td>0</td>\n",
              "    </tr>\n",
              "    <tr>\n",
              "      <th>LandingPad</th>\n",
              "      <td>36</td>\n",
              "    </tr>\n",
              "    <tr>\n",
              "      <th>Latitude</th>\n",
              "      <td>0</td>\n",
              "    </tr>\n",
              "    <tr>\n",
              "      <th>Longitude</th>\n",
              "      <td>0</td>\n",
              "    </tr>\n",
              "  </tbody>\n",
              "</table>\n",
              "</div><br><label><b>dtype:</b> int64</label>"
            ]
          },
          "metadata": {},
          "execution_count": 16
        }
      ]
    },
    {
      "cell_type": "code",
      "source": [
        "# filling the payload mass with the mean\n",
        "mean = df[\"PayloadMass\"].mean().round(2)\n",
        "df[\"PayloadMass\"] = df[\"PayloadMass\"].fillna(mean)"
      ],
      "metadata": {
        "id": "kUgET4JTvsub"
      },
      "execution_count": 17,
      "outputs": []
    },
    {
      "cell_type": "code",
      "source": [
        "df.isnull().sum()"
      ],
      "metadata": {
        "id": "Cha4PbQBv5FE",
        "outputId": "6fada429-877a-4b29-f017-9ce98377c01c",
        "colab": {
          "base_uri": "https://localhost:8080/",
          "height": 617
        }
      },
      "execution_count": 18,
      "outputs": [
        {
          "output_type": "execute_result",
          "data": {
            "text/plain": [
              "FlightNumber       0\n",
              "Date               0\n",
              "BoosterVersion     0\n",
              "PayloadMass        0\n",
              "LaunchSite         0\n",
              "Orbit              1\n",
              "Outcome            0\n",
              "Flights            0\n",
              "GridFins           0\n",
              "Reused             0\n",
              "ReusedCount        0\n",
              "Block              5\n",
              "Serial             0\n",
              "Legs               0\n",
              "LandingPad        36\n",
              "Latitude           0\n",
              "Longitude          0\n",
              "dtype: int64"
            ],
            "text/html": [
              "<div>\n",
              "<style scoped>\n",
              "    .dataframe tbody tr th:only-of-type {\n",
              "        vertical-align: middle;\n",
              "    }\n",
              "\n",
              "    .dataframe tbody tr th {\n",
              "        vertical-align: top;\n",
              "    }\n",
              "\n",
              "    .dataframe thead th {\n",
              "        text-align: right;\n",
              "    }\n",
              "</style>\n",
              "<table border=\"1\" class=\"dataframe\">\n",
              "  <thead>\n",
              "    <tr style=\"text-align: right;\">\n",
              "      <th></th>\n",
              "      <th>0</th>\n",
              "    </tr>\n",
              "  </thead>\n",
              "  <tbody>\n",
              "    <tr>\n",
              "      <th>FlightNumber</th>\n",
              "      <td>0</td>\n",
              "    </tr>\n",
              "    <tr>\n",
              "      <th>Date</th>\n",
              "      <td>0</td>\n",
              "    </tr>\n",
              "    <tr>\n",
              "      <th>BoosterVersion</th>\n",
              "      <td>0</td>\n",
              "    </tr>\n",
              "    <tr>\n",
              "      <th>PayloadMass</th>\n",
              "      <td>0</td>\n",
              "    </tr>\n",
              "    <tr>\n",
              "      <th>LaunchSite</th>\n",
              "      <td>0</td>\n",
              "    </tr>\n",
              "    <tr>\n",
              "      <th>Orbit</th>\n",
              "      <td>1</td>\n",
              "    </tr>\n",
              "    <tr>\n",
              "      <th>Outcome</th>\n",
              "      <td>0</td>\n",
              "    </tr>\n",
              "    <tr>\n",
              "      <th>Flights</th>\n",
              "      <td>0</td>\n",
              "    </tr>\n",
              "    <tr>\n",
              "      <th>GridFins</th>\n",
              "      <td>0</td>\n",
              "    </tr>\n",
              "    <tr>\n",
              "      <th>Reused</th>\n",
              "      <td>0</td>\n",
              "    </tr>\n",
              "    <tr>\n",
              "      <th>ReusedCount</th>\n",
              "      <td>0</td>\n",
              "    </tr>\n",
              "    <tr>\n",
              "      <th>Block</th>\n",
              "      <td>5</td>\n",
              "    </tr>\n",
              "    <tr>\n",
              "      <th>Serial</th>\n",
              "      <td>0</td>\n",
              "    </tr>\n",
              "    <tr>\n",
              "      <th>Legs</th>\n",
              "      <td>0</td>\n",
              "    </tr>\n",
              "    <tr>\n",
              "      <th>LandingPad</th>\n",
              "      <td>36</td>\n",
              "    </tr>\n",
              "    <tr>\n",
              "      <th>Latitude</th>\n",
              "      <td>0</td>\n",
              "    </tr>\n",
              "    <tr>\n",
              "      <th>Longitude</th>\n",
              "      <td>0</td>\n",
              "    </tr>\n",
              "  </tbody>\n",
              "</table>\n",
              "</div><br><label><b>dtype:</b> int64</label>"
            ]
          },
          "metadata": {},
          "execution_count": 18
        }
      ]
    },
    {
      "cell_type": "code",
      "source": [
        "data_falcon9 = df[df['BoosterVersion'] == 'Falcon 9']"
      ],
      "metadata": {
        "id": "QLKBGxfBwGk9"
      },
      "execution_count": 19,
      "outputs": []
    },
    {
      "cell_type": "code",
      "source": [
        "# saving the spaceX data\n",
        "path = \"spaceX_falcom9.csv\"\n",
        "data_falcon9.to_csv(path)"
      ],
      "metadata": {
        "id": "y7H3J2qJwRKT"
      },
      "execution_count": 22,
      "outputs": []
    },
    {
      "cell_type": "markdown",
      "source": [
        "# AUTHERED BY: EVANS NJAGI KARAGO"
      ],
      "metadata": {
        "id": "Iqc3UjtjxcGQ"
      }
    }
  ],
  "metadata": {
    "colab": {
      "provenance": [],
      "authorship_tag": "ABX9TyMkNNy1fKkVVmUHxoHDuQle",
      "include_colab_link": true
    },
    "kernelspec": {
      "display_name": "Python 3",
      "name": "python3"
    },
    "language_info": {
      "name": "python"
    }
  },
  "nbformat": 4,
  "nbformat_minor": 0
}